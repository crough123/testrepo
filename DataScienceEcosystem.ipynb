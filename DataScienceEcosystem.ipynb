{
 "cells": [
  {
   "cell_type": "markdown",
   "id": "569983ce-8011-40d8-9256-7c03cfd94ce0",
   "metadata": {},
   "source": [
    "# Data Science Tools and Ecosystem"
   ]
  },
  {
   "cell_type": "markdown",
   "id": "0d005b44-e6f0-4456-95dd-679c638fb34a",
   "metadata": {},
   "source": [
    "Intro: In this notebook, **Data Science Tools and Ecosystem** are ***summarized***."
   ]
  },
  {
   "cell_type": "markdown",
   "id": "6dad5b15-9ae4-42b5-91e3-69632dc82c13",
   "metadata": {},
   "source": [
    "**Objectives:**\n",
    "\n",
    "* List popular languages for Data Science\n",
    "* List data science libraries\n",
    "* List Data Science Tools\n",
    "* Demonstrate capabilities in Markdown & Python Code"
   ]
  },
  {
   "cell_type": "markdown",
   "id": "49011ab5-1ad1-4ee3-ab77-1b54e0281f8c",
   "metadata": {},
   "source": [
    "## Author:\n",
    "Chris Rough"
   ]
  },
  {
   "cell_type": "markdown",
   "id": "30d92b84-373e-49f3-8af9-3962e9dc0708",
   "metadata": {},
   "source": [
    "Some of the popular languages that Data Scientists use are:\n",
    "\n",
    "1. Python\n",
    "2. R\n",
    "3. SQL\n",
    "4. Scala\n",
    "5. Julia"
   ]
  },
  {
   "cell_type": "markdown",
   "id": "a203feaf-61c5-4a42-820a-c1a88eaaa966",
   "metadata": {},
   "source": [
    "Some of the commonly used libraries used by Data Scientists include:\n",
    "\n",
    "1. ggplot2\n",
    "2. NumPy\n",
    "3. Scikit-Learn\n",
    "4. Seaborn\n",
    "5. Pandas\n",
    "\n"
   ]
  },
  {
   "cell_type": "markdown",
   "id": "2d4d1043-6d4a-42cd-87ac-5d51c72b483f",
   "metadata": {},
   "source": [
    "|Data Science Tools |\n",
    "|-------------------|\n",
    "|GitHub |\n",
    "|RStudio |\n",
    "|JupyterLab |"
   ]
  },
  {
   "cell_type": "markdown",
   "id": "7354e492-2d23-417a-a974-453ca41c197e",
   "metadata": {},
   "source": [
    "### Below are a few examples of evaluating arithmetic expressions in Python"
   ]
  },
  {
   "cell_type": "code",
   "execution_count": 3,
   "id": "906a5486-a6ab-42d5-a12b-f73c40847862",
   "metadata": {},
   "outputs": [
    {
     "data": {
      "text/plain": [
       "17"
      ]
     },
     "execution_count": 3,
     "metadata": {},
     "output_type": "execute_result"
    }
   ],
   "source": [
    "#This a simple arithmetic expression to multiply then add integers\n",
    "\n",
    "(3*4)+5"
   ]
  },
  {
   "cell_type": "code",
   "execution_count": 6,
   "id": "4bc8d073-f47b-4c95-a191-c8031c948e1c",
   "metadata": {},
   "outputs": [
    {
     "name": "stdout",
     "output_type": "stream",
     "text": [
      "3.3333333333333335  hours is equal to  200  minutes\n"
     ]
    }
   ],
   "source": [
    "# This will convert 200 minutes to hours by diving by 60\n",
    "\n",
    "minutes = 200\n",
    "hours = minutes/60\n",
    "print(hours, \" hours is equal to \", minutes, \" minutes\")\n"
   ]
  }
 ],
 "metadata": {
  "kernelspec": {
   "display_name": "Python 3 (ipykernel)",
   "language": "python",
   "name": "python3"
  },
  "language_info": {
   "codemirror_mode": {
    "name": "ipython",
    "version": 3
   },
   "file_extension": ".py",
   "mimetype": "text/x-python",
   "name": "python",
   "nbconvert_exporter": "python",
   "pygments_lexer": "ipython3",
   "version": "3.11.3"
  }
 },
 "nbformat": 4,
 "nbformat_minor": 5
}
